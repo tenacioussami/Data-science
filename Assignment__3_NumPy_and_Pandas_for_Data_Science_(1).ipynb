{
  "nbformat": 4,
  "nbformat_minor": 0,
  "metadata": {
    "colab": {
      "provenance": [],
      "include_colab_link": true
    },
    "kernelspec": {
      "name": "python3",
      "display_name": "Python 3"
    },
    "language_info": {
      "name": "python"
    }
  },
  "cells": [
    {
      "cell_type": "markdown",
      "metadata": {
        "id": "view-in-github",
        "colab_type": "text"
      },
      "source": [
        "<a href=\"https://colab.research.google.com/github/tenacioussami/first-repo/blob/main/Assignment__3_NumPy_and_Pandas_for_Data_Science_(1).ipynb\" target=\"_parent\"><img src=\"https://colab.research.google.com/assets/colab-badge.svg\" alt=\"Open In Colab\"/></a>"
      ]
    },
    {
      "cell_type": "code",
      "execution_count": null,
      "metadata": {
        "id": "VRE1K5KXdhYS"
      },
      "outputs": [],
      "source": [
        "\"\"\"\n",
        "Student Performance Dataset Analysis\n",
        "Dataset Information\n",
        "Student Performance Dataset (StudentsPerformance.csv)\n",
        "\n",
        "1000 students with academic performance data\n",
        "8 columns: gender, race/ethnicity, parental level of education, lunch, test preparation course, math score, reading score, writing score\n",
        "Score Range: 0-100 for each subject\n",
        "Demographics: Male/Female, 5 ethnic groups, 6 education levels, standard/free lunch, test prep completed/none\n",
        "\"\"\""
      ]
    },
    {
      "cell_type": "code",
      "source": [
        "from google.colab import drive\n",
        "import warnings\n",
        "warnings.filterwarnings('ignore')\n",
        "\n"
      ],
      "metadata": {
        "id": "BeRZvO2UvQwC"
      },
      "execution_count": null,
      "outputs": []
    },
    {
      "cell_type": "code",
      "source": [
        "drive.mount('/content/drive')"
      ],
      "metadata": {
        "colab": {
          "base_uri": "https://localhost:8080/"
        },
        "id": "c-4oXUATdFiK",
        "outputId": "d9321c07-07fe-4d83-fe6b-db2ca7785a70"
      },
      "execution_count": null,
      "outputs": [
        {
          "output_type": "stream",
          "name": "stdout",
          "text": [
            "Mounted at /content/drive\n"
          ]
        }
      ]
    },
    {
      "cell_type": "code",
      "source": [
        "import pandas as pd\n",
        "file_path = '/content/drive/MyDrive/datasets/StudentsPerformance.csv'\n",
        "columns = ['gender', 'race/ethnicity', 'parental level of education', 'lunch', 'test preparation course', 'math score', 'reading score', 'writing score']\n",
        "df = pd.read_csv(file_path, names=columns)  # No header in raw CSV\n",
        "print(\"Dataset loaded successfully. Shape:\", df.shape)"
      ],
      "metadata": {
        "colab": {
          "base_uri": "https://localhost:8080/"
        },
        "id": "q2etIln3P4TA",
        "outputId": "ef17f09a-997e-4305-c667-25ac88aa278e"
      },
      "execution_count": null,
      "outputs": [
        {
          "output_type": "stream",
          "name": "stdout",
          "text": [
            "Dataset loaded successfully. Shape: (1001, 8)\n"
          ]
        }
      ]
    },
    {
      "cell_type": "code",
      "source": [
        "#Task 1.1: Data Loading and Exploration\n",
        "import numpy as np\n",
        "import pandas as pd\n",
        "\n",
        "# Load the dataset\n",
        "##df = pd.read_csv('StudentsPerformance.csv')\n",
        "\n",
        "# Your tasks:\n",
        "# 1. Display first 10 rows\n",
        "# 2. Show dataset shape and info()\n",
        "# 3. Display unique values in each categorical column\n",
        "# 4. Show basic statistics for all score columns\n",
        "\n",
        "# Your code here:\n",
        "print( df.head(10))\n",
        "print(df.shape)\n",
        "print(df.nunique())\n",
        "print(df.describe())\n"
      ],
      "metadata": {
        "id": "Agxhn5_4eTuI",
        "colab": {
          "base_uri": "https://localhost:8080/"
        },
        "outputId": "ec04c5c3-ce6f-45fa-f830-ce4fa143ae64"
      },
      "execution_count": null,
      "outputs": [
        {
          "output_type": "stream",
          "name": "stdout",
          "text": [
            "   gender  race/ethnicity  parental level of education         lunch  \\\n",
            "0  gender  race/ethnicity  parental level of education         lunch   \n",
            "1  female         group B            bachelor's degree      standard   \n",
            "2  female         group C                 some college      standard   \n",
            "3  female         group B              master's degree      standard   \n",
            "4    male         group A           associate's degree  free/reduced   \n",
            "5    male         group C                 some college      standard   \n",
            "6  female         group B           associate's degree      standard   \n",
            "7  female         group B                 some college      standard   \n",
            "8    male         group B                 some college  free/reduced   \n",
            "9    male         group D                  high school  free/reduced   \n",
            "\n",
            "   test preparation course  math score  reading score  writing score  \n",
            "0  test preparation course  math score  reading score  writing score  \n",
            "1                     none          72             72             74  \n",
            "2                completed          69             90             88  \n",
            "3                     none          90             95             93  \n",
            "4                     none          47             57             44  \n",
            "5                     none          76             78             75  \n",
            "6                     none          71             83             78  \n",
            "7                completed          88             95             92  \n",
            "8                     none          40             43             39  \n",
            "9                completed          64             64             67  \n",
            "(1001, 8)\n",
            "gender                          3\n",
            "race/ethnicity                  6\n",
            "parental level of education     7\n",
            "lunch                           3\n",
            "test preparation course         3\n",
            "math score                     82\n",
            "reading score                  73\n",
            "writing score                  78\n",
            "dtype: int64\n",
            "        gender race/ethnicity parental level of education     lunch  \\\n",
            "count     1001           1001                        1001      1001   \n",
            "unique       3              6                           7         3   \n",
            "top     female        group C                some college  standard   \n",
            "freq       518            319                         226       645   \n",
            "\n",
            "       test preparation course math score reading score writing score  \n",
            "count                     1001       1001          1001          1001  \n",
            "unique                       3         82            73            78  \n",
            "top                       none         65            72            74  \n",
            "freq                       642         36            34            35  \n"
          ]
        }
      ]
    },
    {
      "cell_type": "code",
      "source": [
        "#Task 1.2: NumPy Array Operations\n",
        "# Convert score columns to numpy arrays\n",
        "# Remove the header row\n",
        "df_numeric = df.iloc[1:].copy()\n",
        "\n",
        "# Convert score columns to numeric, coercing errors\n",
        "df_numeric['math score'] = pd.to_numeric(df_numeric['math score'], errors='coerce')\n",
        "df_numeric['reading score'] = pd.to_numeric(df_numeric['reading score'], errors='coerce')\n",
        "df_numeric['writing score'] = pd.to_numeric(df_numeric['writing score'], errors='coerce')\n",
        "\n",
        "math_scores = df_numeric['math score'].values\n",
        "reading_scores = df_numeric['reading score'].values\n",
        "writing_scores = df_numeric['writing score'].values\n",
        "\n",
        "# Your tasks:\n",
        "# 1. Calculate mean, median, std, min, max for each subject using NumPy\n",
        "# 2. Find total students who scored above 80 in math\n",
        "# 3. Find total students who scored below 50 in any subject\n",
        "# 4. Calculate the overall average score across all three subjects\n",
        "\n",
        "# Expected output example:\n",
        "# Math - Mean: 66.1, Median: 66.0, Std: 15.2\n",
        "# Students with math > 80: 132\n",
        "# Students with any score < 50: 178\n",
        "\n",
        "# Your code here:\n",
        "print(f\"Math - Mean: {np.mean(math_scores):.1f}, Median: {np.median(math_scores):.1f}, Std: {np.std(math_scores):.1f}, Min: {np.min(math_scores):.0f}, Max: {np.max(math_scores):.0f}\")\n",
        "print(f\"Reading - Mean: {np.mean(reading_scores):.1f}, Median: {np.median(reading_scores):.1f}, Std: {np.std(reading_scores):.1f}, Min: {np.min(reading_scores):.0f}, Max: {np.max(reading_scores):.0f}\")\n",
        "print(f\"Writing - Mean: {np.mean(writing_scores):.1f}, Median: {np.median(writing_scores):.1f}, Std: {np.std(writing_scores):.1f}, Min: {np.min(writing_scores):.0f}, Max: {np.max(writing_scores):.0f}\")\n",
        "\n",
        "\n",
        "total_above_80_math = df_numeric[df_numeric['math score'] > 80].shape[0]\n",
        "print(f\"Students with math > 80: {total_above_80_math}\")\n",
        "\n",
        "total_below_50_any = df_numeric[(df_numeric['math score'] < 50) | (df_numeric['reading score'] < 50) | (df_numeric['writing score'] < 50)].shape[0]\n",
        "print(f\"Students with any score < 50: {total_below_50_any}\")\n",
        "\n",
        "average = np.mean([math_scores, reading_scores, writing_scores])\n",
        "print(f\"Overall average score: {average:.1f}\")"
      ],
      "metadata": {
        "id": "JQzbRZTAefeu",
        "colab": {
          "base_uri": "https://localhost:8080/"
        },
        "outputId": "9d14ddaa-e71e-4b3b-d64a-09bc215d0264"
      },
      "execution_count": null,
      "outputs": [
        {
          "output_type": "stream",
          "name": "stdout",
          "text": [
            "Math - Mean: 66.1, Median: 66.0, Std: 15.2, Min: 0, Max: 100\n",
            "Reading - Mean: 69.2, Median: 70.0, Std: 14.6, Min: 17, Max: 100\n",
            "Writing - Mean: 68.1, Median: 69.0, Std: 15.2, Min: 10, Max: 100\n",
            "Students with math > 80: 176\n",
            "Students with any score < 50: 188\n",
            "Overall average score: 67.8\n"
          ]
        }
      ]
    },
    {
      "cell_type": "code",
      "source": [
        "# Task 2.1: Identify and Handle Missing Data\n",
        "# Check the dataset for any missing values\n",
        "# Your tasks:\n",
        "# 1. Check for null values in each column using .isnull().sum()\n",
        "# 2. Check for any impossible values (scores > 100 or < 0)\n",
        "# 3. Display summary of data quality\n",
        "\n",
        "# Note: This dataset is clean, but let's verify!\n",
        "\n",
        "# Your code here:\n",
        "print(df_numeric.isnull().sum())\n",
        "print(df_numeric[df_numeric['math score']>100])\n",
        "print(df_numeric[df_numeric['math score']<0])\n",
        "print(df_numeric.describe())"
      ],
      "metadata": {
        "id": "jxHdNzGeexDI",
        "colab": {
          "base_uri": "https://localhost:8080/"
        },
        "outputId": "170586f2-3255-4fc6-f905-6bbe63483b66"
      },
      "execution_count": null,
      "outputs": [
        {
          "output_type": "stream",
          "name": "stdout",
          "text": [
            "gender                         0\n",
            "race/ethnicity                 0\n",
            "parental level of education    0\n",
            "lunch                          0\n",
            "test preparation course        0\n",
            "math score                     0\n",
            "reading score                  0\n",
            "writing score                  0\n",
            "dtype: int64\n",
            "Empty DataFrame\n",
            "Columns: [gender, race/ethnicity, parental level of education, lunch, test preparation course, math score, reading score, writing score]\n",
            "Index: []\n",
            "Empty DataFrame\n",
            "Columns: [gender, race/ethnicity, parental level of education, lunch, test preparation course, math score, reading score, writing score]\n",
            "Index: []\n",
            "       math score  reading score  writing score\n",
            "count  1000.00000    1000.000000    1000.000000\n",
            "mean     66.08900      69.169000      68.054000\n",
            "std      15.16308      14.600192      15.195657\n",
            "min       0.00000      17.000000      10.000000\n",
            "25%      57.00000      59.000000      57.750000\n",
            "50%      66.00000      70.000000      69.000000\n",
            "75%      77.00000      79.000000      79.000000\n",
            "max     100.00000     100.000000     100.000000\n"
          ]
        }
      ]
    },
    {
      "cell_type": "code",
      "source": [
        "#Task 2.2: Create and Fix Missing Value\n",
        "# Artificially create missing data for practice\n",
        "import numpy as np\n",
        "\n",
        "# Your tasks:\n",
        "# 1. Make a copy of the dataset: df_practice = df.copy()\n",
        "# 2. Randomly set 50 math scores to np.nan\n",
        "# 3. Randomly set 30 writing scores to np.nan\n",
        "# 4. Fill missing math scores with the MEDIAN math score\n",
        "# 5. Fill missing writing scores with the MEAN writing score\n",
        "# 6. Verify no missing values remain\n",
        "\n",
        "# Steps to follow:\n",
        "# Step 1: Create copy and show original missing values\n",
        "df_practice = df_numeric.copy() # Use df_numeric which has scores as numbers and header removed\n",
        "print(\"Original missing values:\", df_practice.isnull().sum())\n",
        "\n",
        "# Step 2: Create missing data\n",
        "np.random.seed(42)  # For reproducible results\n",
        "missing_math_idx = np.random.choice(df_practice.index, 50, replace=False)\n",
        "missing_writing_idx = np.random.choice(df_practice.index, 30, replace=False)\n",
        "\n",
        "df_practice.loc[missing_math_idx, 'math score'] = np.nan\n",
        "df_practice.loc[missing_writing_idx, 'writing score'] = np.nan\n",
        "\n",
        "print(\"\\nMissing values after creation:\")\n",
        "print(df_practice.isnull().sum())\n",
        "\n",
        "# Step 3: Fill missing values\n",
        "median_math = df_practice['math score'].median()\n",
        "df_practice['math score'].fillna(median_math, inplace=True)\n",
        "\n",
        "mean_writing = df_practice['writing score'].mean()\n",
        "df_practice['writing score'].fillna(mean_writing, inplace=True)\n",
        "\n",
        "# Step 4: Verify no missing values remain\n",
        "print(\"\\nMissing values after filling:\")\n",
        "print(df_practice.isnull().sum())"
      ],
      "metadata": {
        "id": "gjwOKcwLe9vC",
        "colab": {
          "base_uri": "https://localhost:8080/"
        },
        "outputId": "a4d591a1-6666-49c0-e47f-32f85dde35f2"
      },
      "execution_count": null,
      "outputs": [
        {
          "output_type": "stream",
          "name": "stdout",
          "text": [
            "Original missing values: gender                         0\n",
            "race/ethnicity                 0\n",
            "parental level of education    0\n",
            "lunch                          0\n",
            "test preparation course        0\n",
            "math score                     0\n",
            "reading score                  0\n",
            "writing score                  0\n",
            "dtype: int64\n",
            "\n",
            "Missing values after creation:\n",
            "gender                          0\n",
            "race/ethnicity                  0\n",
            "parental level of education     0\n",
            "lunch                           0\n",
            "test preparation course         0\n",
            "math score                     50\n",
            "reading score                   0\n",
            "writing score                  30\n",
            "dtype: int64\n",
            "\n",
            "Missing values after filling:\n",
            "gender                         0\n",
            "race/ethnicity                 0\n",
            "parental level of education    0\n",
            "lunch                          0\n",
            "test preparation course        0\n",
            "math score                     0\n",
            "reading score                  0\n",
            "writing score                  0\n",
            "dtype: int64\n"
          ]
        }
      ]
    },
    {
      "cell_type": "code",
      "source": [
        "#Task 3.1:Answer Simple Questions About Student Performance\n",
        "# Your tasks:\n",
        "# 1. Display first 5 rows using .head()\n",
        "# 2. Display last 5 rows using .tail()\n",
        "# 3. Show dataset shape using .shape\n",
        "# 4. Show column names using .columns\n",
        "# 5. Show data types using .dtypes\n",
        "# 6. Show basic info using .info()\n",
        "\n",
        "# Your code here:\n",
        "print(df.head())\n",
        "print(df.tail())\n",
        "print(df.shape())\n",
        "print(df.columns)\n",
        "print(df.dtypes)\n",
        "print(df.info())\n"
      ],
      "metadata": {
        "id": "ijhkTUFqgnaG"
      },
      "execution_count": null,
      "outputs": []
    },
    {
      "cell_type": "code",
      "source": [
        "#Task 3.2: Basic Groupby Analysis\n",
        "# Comprehensive groupby analysis\n",
        "# Your tasks:\n",
        "\n",
        "# 1. Group by 'gender' and calculate:\n",
        "#    - Average scores in all subjects\n",
        "#    - Count of students\n",
        "\n",
        "# 2. Group by 'test preparation course' and show:\n",
        "#    - Mean scores for each subject\n",
        "#    - Show which subject benefits most from test prep\n",
        "\n",
        "# 3. Group by 'parental level of education' and calculate:\n",
        "#    - Average math score for each education level\n",
        "#    - Rank education levels by math performance\n",
        "\n",
        "# 4. Group by 'lunch' type and show:\n",
        "#    - Average scores for each subject\n",
        "#    - Count of students in each lunch category\n",
        "\n",
        "# Your code here:\n",
        "# Task 3.2: Basic Groupby Analysis\n",
        "\n",
        "# ---------------------------\n",
        "# 1. Group by 'gender'\n",
        "# ---------------------------\n",
        "gender_group = df_numeric.groupby('gender')\n",
        "gender_avg = gender_group[['math score', 'reading score', 'writing score']].mean()\n",
        "gender_count = gender_group.size()\n",
        "gender_summary = gender_avg.copy()\n",
        "gender_summary['student_count'] = gender_count\n",
        "print(gender_summary)\n",
        "\n",
        "# ---------------------------\n",
        "# 2. Group by 'test preparation course'\n",
        "# ---------------------------\n",
        "prep_group = df_numeric.groupby('test preparation course')\n",
        "prep_avg = prep_group[['math score', 'reading score', 'writing score']].mean()\n",
        "benefit = prep_avg.loc['completed'] - prep_avg.loc['none']\n",
        "most_benefit_subject = benefit.idxmax()\n",
        "\n",
        "print(\"\\nAverage scores by test preparation course:\")\n",
        "print(prep_avg)\n",
        "print(f\"\\nSubject benefiting most from test prep: {most_benefit_subject}\")\n",
        "\n",
        "# ---------------------------\n",
        "# 3. Group by 'parental level of education'\n",
        "# ---------------------------\n",
        "parent_group = df_numeric.groupby('parental level of education')\n",
        "parent_math_avg = parent_group['math score'].mean()\n",
        "parent_math_ranked = parent_math_avg.sort_values(ascending=False)\n",
        "\n",
        "print(\"\\nAverage math score by parental education level (ranked):\")\n",
        "print(parent_math_ranked)\n",
        "\n",
        "# ---------------------------\n",
        "# 4. Group by 'lunch' type\n",
        "# ---------------------------\n",
        "lunch_group = df_numeric.groupby('lunch')\n",
        "lunch_avg = lunch_group[['math score', 'reading score', 'writing score']].mean()\n",
        "lunch_count = lunch_group.size()\n",
        "lunch_summary = lunch_avg.copy()\n",
        "lunch_summary['student_count'] = lunch_count\n",
        "\n",
        "print(\"\\nAverage scores and student count by lunch type:\")\n",
        "print(lunch_summary)\n",
        "print(\"-\" * 60)"
      ],
      "metadata": {
        "id": "eW-bxo9SfNFC",
        "colab": {
          "base_uri": "https://localhost:8080/"
        },
        "outputId": "69f37af3-7755-43d2-995e-525ced5b7ba8"
      },
      "execution_count": null,
      "outputs": [
        {
          "output_type": "stream",
          "name": "stdout",
          "text": [
            "        math score  reading score  writing score  student_count\n",
            "gender                                                         \n",
            "female   63.633205      72.608108      72.467181            518\n",
            "male     68.728216      65.473029      63.311203            482\n",
            "\n",
            "Average scores by test preparation course:\n",
            "                         math score  reading score  writing score\n",
            "test preparation course                                          \n",
            "completed                 69.695531      73.893855      74.418994\n",
            "none                      64.077882      66.534268      64.504673\n",
            "\n",
            "Subject benefiting most from test prep: writing score\n",
            "\n",
            "Average math score by parental education level (ranked):\n",
            "parental level of education\n",
            "master's degree       69.745763\n",
            "bachelor's degree     69.389831\n",
            "associate's degree    67.882883\n",
            "some college          67.128319\n",
            "some high school      63.497207\n",
            "high school           62.137755\n",
            "Name: math score, dtype: float64\n",
            "\n",
            "Average scores and student count by lunch type:\n",
            "              math score  reading score  writing score  student_count\n",
            "lunch                                                                \n",
            "free/reduced   58.921127      64.653521      63.022535            355\n",
            "standard       70.034109      71.654264      70.823256            645\n",
            "------------------------------------------------------------\n"
          ]
        }
      ]
    },
    {
      "cell_type": "code",
      "source": [
        "#Task 3.3: Use your data analysis skills to answer these easy questions:\n",
        "\n",
        "# 1. Who performs better in math - males or females?\n",
        "#    - Calculate average math score by gender\n",
        "#    - Show the difference between male and female average\n",
        "\n",
        "# 2. Which subject do students perform best in overall?\n",
        "#    - Calculate the overall average for math, reading, and writing\n",
        "#    - Rank the subjects from highest to lowest average score\n",
        "\n",
        "# 3. What's the impact of parental education?\n",
        "#    - Find the average total score for each parental education level\n",
        "#    - Identify which education level leads to highest student performance\n",
        "\n",
        "\n",
        "avg_math_by_gender = df_numeric.groupby(\"gender\")[\"math score\"].mean()\n",
        "print(\"Average math score by gender:\")\n",
        "print(avg_math_by_gender)\n",
        "print(\"Difference between male and female average:\", avg_math_by_gender[\"male\"] - avg_math_by_gender[\"female\"])\n",
        "\n",
        "over_all_avg = df_numeric[['math score', 'reading score', 'writing score']].mean()\n",
        "print(over_all_avg)\n",
        "print(\"Subject with highest overall average:\", over_all_avg.idxmax())\n",
        "print(\"Subject with lowest overall average:\", over_all_avg.idxmin())\n",
        "\n",
        "\n",
        "parantal_average_total_score = df_numeric.groupby('parental level of education')[['math score', 'reading score', 'writing score']].mean()\n",
        "print(parantal_average_total_score)\n",
        "print(\"Education level with highest student performance:\", parantal_average_total_score.sum(axis=1).idxmax())"
      ],
      "metadata": {
        "id": "EXQhAbVRg_a_",
        "colab": {
          "base_uri": "https://localhost:8080/"
        },
        "outputId": "d806de9a-7603-4379-a649-10fa680f67ab"
      },
      "execution_count": null,
      "outputs": [
        {
          "output_type": "stream",
          "name": "stdout",
          "text": [
            "Average math score by gender:\n",
            "gender\n",
            "female    63.633205\n",
            "male      68.728216\n",
            "Name: math score, dtype: float64\n",
            "Difference between male and female average: 5.095011134430216\n",
            "math score       66.089\n",
            "reading score    69.169\n",
            "writing score    68.054\n",
            "dtype: float64\n",
            "Subject with highest overall average: reading score\n",
            "Subject with lowest overall average: math score\n",
            "                             math score  reading score  writing score\n",
            "parental level of education                                          \n",
            "associate's degree            67.882883      70.927928      69.896396\n",
            "bachelor's degree             69.389831      73.000000      73.381356\n",
            "high school                   62.137755      64.704082      62.448980\n",
            "master's degree               69.745763      75.372881      75.677966\n",
            "some college                  67.128319      69.460177      68.840708\n",
            "some high school              63.497207      66.938547      64.888268\n",
            "Education level with highest student performance: master's degree\n"
          ]
        }
      ]
    }
  ]
}