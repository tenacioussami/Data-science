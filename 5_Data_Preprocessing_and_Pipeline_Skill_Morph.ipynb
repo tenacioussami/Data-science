{
  "nbformat": 4,
  "nbformat_minor": 0,
  "metadata": {
    "colab": {
      "provenance": [],
      "toc_visible": true,
      "include_colab_link": true
    },
    "kernelspec": {
      "name": "python3",
      "display_name": "Python 3"
    },
    "language_info": {
      "name": "python"
    }
  },
  "cells": [
    {
      "cell_type": "markdown",
      "metadata": {
        "id": "view-in-github",
        "colab_type": "text"
      },
      "source": [
        "<a href=\"https://colab.research.google.com/github/tenacioussami/Data-science/blob/main/5_Data_Preprocessing_and_Pipeline_Skill_Morph.ipynb\" target=\"_parent\"><img src=\"https://colab.research.google.com/assets/colab-badge.svg\" alt=\"Open In Colab\"/></a>"
      ]
    },
    {
      "cell_type": "code",
      "execution_count": 1,
      "metadata": {
        "id": "ap3SnZdQwGF6"
      },
      "outputs": [],
      "source": [
        "import pandas as pd\n",
        "import numpy as np\n",
        "import matplotlib.pyplot as plt\n",
        "import seaborn as sns\n",
        "from sklearn.model_selection import train_test_split, cross_val_score\n",
        "from sklearn.preprocessing import StandardScaler, MinMaxScaler\n",
        "from sklearn.linear_model import LogisticRegression\n",
        "from sklearn.metrics import accuracy_score, classification_report"
      ]
    },
    {
      "cell_type": "code",
      "source": [
        "from google.colab import drive\n",
        "drive.mount('/content/drive')\n",
        "import warnings\n",
        "warnings.filterwarnings('ignore')"
      ],
      "metadata": {
        "colab": {
          "base_uri": "https://localhost:8080/"
        },
        "id": "9FqRaHDTyDTw",
        "outputId": "fd7bae5f-2be9-4664-b377-437b6dbcfcb2"
      },
      "execution_count": 3,
      "outputs": [
        {
          "output_type": "stream",
          "name": "stdout",
          "text": [
            "Mounted at /content/drive\n"
          ]
        }
      ]
    },
    {
      "cell_type": "markdown",
      "source": [
        "# **Loading and Exploring the Dataset**"
      ],
      "metadata": {
        "id": "AlYoOy7Nyow-"
      }
    },
    {
      "cell_type": "code",
      "source": [
        "df = pd.read_csv('/content/drive/MyDrive/datasets/diabetes.csv')  # No header in raw CSV"
      ],
      "metadata": {
        "id": "7HpyYoxayHMg"
      },
      "execution_count": 4,
      "outputs": []
    },
    {
      "cell_type": "code",
      "source": [
        "# Basic exploration\n",
        "print(\"Dataset Shape:\", df.shape)\n",
        "print(\"\\nFirst 5 rows:\")\n",
        "print(df.head())\n",
        "\n",
        "print(\"\\nDataset Info:\")\n",
        "print(df.info())\n",
        "\n",
        "print(\"\\nBasic Statistics:\")\n",
        "print(df.describe())\n",
        "\n",
        "print(\"\\nCheck for missing values:\")\n",
        "print(df.isnull().sum())\n",
        "\n",
        "print(\"\\nTarget variable distribution:\")\n",
        "print(df['Outcome'].value_counts())"
      ],
      "metadata": {
        "colab": {
          "base_uri": "https://localhost:8080/"
        },
        "id": "BpaCC0ktzE_0",
        "outputId": "3750544d-ad58-4915-e6f1-adeb101325f0"
      },
      "execution_count": null,
      "outputs": [
        {
          "output_type": "stream",
          "name": "stdout",
          "text": [
            "Dataset Shape: (768, 9)\n",
            "\n",
            "First 5 rows:\n",
            "   Pregnancies  Glucose  BloodPressure  SkinThickness  Insulin   BMI  \\\n",
            "0            6      148             72             35        0  33.6   \n",
            "1            1       85             66             29        0  26.6   \n",
            "2            8      183             64              0        0  23.3   \n",
            "3            1       89             66             23       94  28.1   \n",
            "4            0      137             40             35      168  43.1   \n",
            "\n",
            "   DiabetesPedigreeFunction  Age  Outcome  \n",
            "0                     0.627   50        1  \n",
            "1                     0.351   31        0  \n",
            "2                     0.672   32        1  \n",
            "3                     0.167   21        0  \n",
            "4                     2.288   33        1  \n",
            "\n",
            "Dataset Info:\n",
            "<class 'pandas.core.frame.DataFrame'>\n",
            "RangeIndex: 768 entries, 0 to 767\n",
            "Data columns (total 9 columns):\n",
            " #   Column                    Non-Null Count  Dtype  \n",
            "---  ------                    --------------  -----  \n",
            " 0   Pregnancies               768 non-null    int64  \n",
            " 1   Glucose                   768 non-null    int64  \n",
            " 2   BloodPressure             768 non-null    int64  \n",
            " 3   SkinThickness             768 non-null    int64  \n",
            " 4   Insulin                   768 non-null    int64  \n",
            " 5   BMI                       768 non-null    float64\n",
            " 6   DiabetesPedigreeFunction  768 non-null    float64\n",
            " 7   Age                       768 non-null    int64  \n",
            " 8   Outcome                   768 non-null    int64  \n",
            "dtypes: float64(2), int64(7)\n",
            "memory usage: 54.1 KB\n",
            "None\n",
            "\n",
            "Basic Statistics:\n",
            "       Pregnancies     Glucose  BloodPressure  SkinThickness     Insulin  \\\n",
            "count   768.000000  768.000000     768.000000     768.000000  768.000000   \n",
            "mean      3.845052  120.894531      69.105469      20.536458   79.799479   \n",
            "std       3.369578   31.972618      19.355807      15.952218  115.244002   \n",
            "min       0.000000    0.000000       0.000000       0.000000    0.000000   \n",
            "25%       1.000000   99.000000      62.000000       0.000000    0.000000   \n",
            "50%       3.000000  117.000000      72.000000      23.000000   30.500000   \n",
            "75%       6.000000  140.250000      80.000000      32.000000  127.250000   \n",
            "max      17.000000  199.000000     122.000000      99.000000  846.000000   \n",
            "\n",
            "              BMI  DiabetesPedigreeFunction         Age     Outcome  \n",
            "count  768.000000                768.000000  768.000000  768.000000  \n",
            "mean    31.992578                  0.471876   33.240885    0.348958  \n",
            "std      7.884160                  0.331329   11.760232    0.476951  \n",
            "min      0.000000                  0.078000   21.000000    0.000000  \n",
            "25%     27.300000                  0.243750   24.000000    0.000000  \n",
            "50%     32.000000                  0.372500   29.000000    0.000000  \n",
            "75%     36.600000                  0.626250   41.000000    1.000000  \n",
            "max     67.100000                  2.420000   81.000000    1.000000  \n",
            "\n",
            "Check for missing values:\n",
            "Pregnancies                 0\n",
            "Glucose                     0\n",
            "BloodPressure               0\n",
            "SkinThickness               0\n",
            "Insulin                     0\n",
            "BMI                         0\n",
            "DiabetesPedigreeFunction    0\n",
            "Age                         0\n",
            "Outcome                     0\n",
            "dtype: int64\n",
            "\n",
            "Target variable distribution:\n",
            "Outcome\n",
            "0    500\n",
            "1    268\n",
            "Name: count, dtype: int64\n"
          ]
        }
      ]
    },
    {
      "cell_type": "markdown",
      "source": [
        "# **Train-Test Split**"
      ],
      "metadata": {
        "id": "uuf1HS2YzbBV"
      }
    },
    {
      "cell_type": "code",
      "source": [
        "# Separate input (X) and output (y)\n",
        "X = df.drop('Outcome', axis=1)  # Everything except Outcome\n",
        "y = df['Outcome']                # Only Outcome\n",
        "\n",
        "print(\"X has all patient information (8 columns)\")\n",
        "print(\"y has diabetes yes/no (1 column)\")\n",
        "\n",
        "# Split: 80% for training, 20% for testing\n",
        "X_train, X_test, y_train, y_test = train_test_split(\n",
        "    X, y,\n",
        "    test_size=0.2,    # 20% for test\n",
        "    random_state=20   # Same result every time\n",
        ")\n",
        "\n",
        "print(f\"\\nWe will train with: {len(X_train)} patients\")\n",
        "print(f\"We will test with: {len(X_test)} patients\")"
      ],
      "metadata": {
        "colab": {
          "base_uri": "https://localhost:8080/"
        },
        "id": "MCC6Qtp5zGPc",
        "outputId": "e3ab1f60-4e23-4afd-9b60-b92db3d76a65"
      },
      "execution_count": null,
      "outputs": [
        {
          "output_type": "stream",
          "name": "stdout",
          "text": [
            "X has all patient information (8 columns)\n",
            "y has diabetes yes/no (1 column)\n",
            "\n",
            "We will train with: 614 patients\n",
            "We will test with: 154 patients\n"
          ]
        }
      ]
    },
    {
      "cell_type": "markdown",
      "source": [
        "# **Why Scale?**"
      ],
      "metadata": {
        "id": "rBPLCGEGo_hy"
      }
    },
    {
      "cell_type": "code",
      "source": [
        "# Problem: Some numbers are big, some are small\n",
        "print(\"Before scaling - different ranges:\")\n",
        "print(f\"Age: smallest={X_train['Age'].min()}, biggest={X_train['Age'].max()}\")\n",
        "print(f\"Insulin: smallest={X_train['Insulin'].min()}, biggest={X_train['Insulin'].max()}\")\n",
        "print(\"\\nAge goes from 21 to 81 (small range)\")\n",
        "print(\"Insulin goes from 0 to 846 (big range!)\")\n",
        "print(\"This confuses the model!\")"
      ],
      "metadata": {
        "colab": {
          "base_uri": "https://localhost:8080/"
        },
        "id": "iGEILoGKpB8n",
        "outputId": "68369102-8809-45b8-9bd0-1c2751f3178a"
      },
      "execution_count": null,
      "outputs": [
        {
          "output_type": "stream",
          "name": "stdout",
          "text": [
            "Before scaling - different ranges:\n",
            "Age: smallest=21, biggest=81\n",
            "Insulin: smallest=0, biggest=744\n",
            "\n",
            "Age goes from 21 to 81 (small range)\n",
            "Insulin goes from 0 to 846 (big range!)\n",
            "This confuses the model!\n"
          ]
        }
      ]
    },
    {
      "cell_type": "markdown",
      "source": [
        "\n",
        "\n",
        "```\n",
        "# This is formatted as code\n",
        "```\n",
        "\n",
        "# **StandardScaler**"
      ],
      "metadata": {
        "id": "mFOjp8yBpMWf"
      }
    },
    {
      "cell_type": "code",
      "source": [
        "# Create scaler\n",
        "scaler = StandardScaler()\n",
        "\n",
        "# Learn from training data and scale it\n",
        "X_train_scaled = scaler.fit_transform(X_train)\n",
        "\n",
        "# Scale test data (just transform, don't fit)\n",
        "X_test_scaled = scaler.transform(X_test)\n",
        "\n",
        "print(\"\\nAfter scaling:\")\n",
        "print(\"All features now have similar range!\")\n",
        "print(f\"Example - First patient's age before scaling: {X_train.values[0][7]}\")\n",
        "print(f\"Example - First patient's age after scaling: {X_train_scaled[0][7]:.2f}\")"
      ],
      "metadata": {
        "colab": {
          "base_uri": "https://localhost:8080/"
        },
        "id": "XBphxu4Mpmp-",
        "outputId": "f9bf55bf-187a-4280-9065-d314cee93eee"
      },
      "execution_count": null,
      "outputs": [
        {
          "output_type": "stream",
          "name": "stdout",
          "text": [
            "\n",
            "After scaling:\n",
            "All features now have similar range!\n",
            "Example - First patient's age before scaling: 28.0\n",
            "Example - First patient's age after scaling: -0.43\n"
          ]
        }
      ]
    },
    {
      "cell_type": "markdown",
      "source": [
        "# **MinMaxScaler (Min-Max normalization)**"
      ],
      "metadata": {
        "id": "9GrgbItK2iT6"
      }
    },
    {
      "cell_type": "code",
      "source": [
        "from sklearn.preprocessing import MinMaxScaler\n",
        "\n",
        "# Create MinMaxScaler\n",
        "minmax_scaler = MinMaxScaler()\n",
        "\n",
        "# Learn from training data and scale it\n",
        "X_train_minmax = minmax_scaler.fit_transform(X_train)\n",
        "\n",
        "# Scale test data\n",
        "X_test_minmax = minmax_scaler.transform(X_test)\n",
        "\n",
        "print(\"\\nAfter MinMaxScaler:\")\n",
        "print(\"All features now between 0 and 1!\")\n",
        "print(f\"Example - First patient's age before scaling: {X_train.values[0][7]}\")\n",
        "print(f\"Example - First patient's age after scaling: {X_train_minmax[0][7]:.2f}\")\n",
        "\n",
        "# Let's verify MinMaxScaler worked\n",
        "print(\"\\nChecking MinMaxScaler:\")\n",
        "print(f\"  Minimum value: {X_train_minmax.min():.1f} (should be 0)\")\n",
        "print(f\"  Maximum value: {X_train_minmax.max():.1f} (should be 1)\")"
      ],
      "metadata": {
        "colab": {
          "base_uri": "https://localhost:8080/"
        },
        "id": "Vott0zct2nX3",
        "outputId": "62f5c79f-0e7d-4343-a711-7adf5d6def6b"
      },
      "execution_count": null,
      "outputs": [
        {
          "output_type": "stream",
          "name": "stdout",
          "text": [
            "\n",
            "After MinMaxScaler:\n",
            "All features now between 0 and 1!\n",
            "Example - First patient's age before scaling: 28.0\n",
            "Example - First patient's age after scaling: 0.12\n",
            "\n",
            "Checking MinMaxScaler:\n",
            "  Minimum value: 0.0 (should be 0)\n",
            "  Maximum value: 1.0 (should be 1)\n"
          ]
        }
      ]
    },
    {
      "cell_type": "markdown",
      "source": [
        "# **Encoding Categorical Data**"
      ],
      "metadata": {
        "id": "OzIOAKqEx81K"
      }
    },
    {
      "cell_type": "code",
      "source": [
        "# Let's create a sample dataset with text data\n",
        "sample_data = pd.DataFrame({\n",
        "    'age': [25, 30, 35, 40],\n",
        "    'gender': ['male', 'female', 'male', 'female'],\n",
        "    'smoker': ['yes', 'no', 'yes', 'no'],\n",
        "    'disease': [1, 0, 1, 0]\n",
        "})\n",
        "\n",
        "print(\"Original data with text:\")\n",
        "print(sample_data)"
      ],
      "metadata": {
        "colab": {
          "base_uri": "https://localhost:8080/"
        },
        "id": "JUpAXDAJx-WI",
        "outputId": "7216650d-3008-4f23-c476-e7a5b817a412"
      },
      "execution_count": null,
      "outputs": [
        {
          "output_type": "stream",
          "name": "stdout",
          "text": [
            "Original data with text:\n",
            "   age  gender smoker  disease\n",
            "0   25    male    yes        1\n",
            "1   30  female     no        0\n",
            "2   35    male    yes        1\n",
            "3   40  female     no        0\n"
          ]
        }
      ]
    },
    {
      "cell_type": "markdown",
      "source": [
        "# **Label Encoding (For Binary/Two Categories)**"
      ],
      "metadata": {
        "id": "hKz1XAvyyK9C"
      }
    },
    {
      "cell_type": "code",
      "source": [
        "from sklearn.preprocessing import LabelEncoder\n",
        "\n",
        "# For yes/no or male/female (2 categories only)\n",
        "label_encoder = LabelEncoder()\n",
        "\n",
        "# Convert 'smoker' column\n",
        "sample_data['smoker_encoded'] = label_encoder.fit_transform(sample_data['smoker'])\n",
        "print(\"\\nAfter Label Encoding 'smoker':\")\n",
        "print(sample_data[['smoker', 'smoker_encoded']])\n",
        "# no = 0, yes = 1\n",
        "\n",
        "# Convert 'gender' column\n",
        "sample_data['gender_encoded'] = label_encoder.fit_transform(sample_data['gender'])\n",
        "print(\"\\nAfter Label Encoding 'gender':\")\n",
        "print(sample_data[['gender', 'gender_encoded']])\n",
        "# female = 0, male = 1"
      ],
      "metadata": {
        "colab": {
          "base_uri": "https://localhost:8080/"
        },
        "id": "vyyJupUQyO31",
        "outputId": "3cd57cea-d428-4e19-db0e-9f53f8eaa613"
      },
      "execution_count": null,
      "outputs": [
        {
          "output_type": "stream",
          "name": "stdout",
          "text": [
            "\n",
            "After Label Encoding 'smoker':\n",
            "  smoker  smoker_encoded\n",
            "0    yes               1\n",
            "1     no               0\n",
            "2    yes               1\n",
            "3     no               0\n",
            "\n",
            "After Label Encoding 'gender':\n",
            "   gender  gender_encoded\n",
            "0    male               1\n",
            "1  female               0\n",
            "2    male               1\n",
            "3  female               0\n"
          ]
        }
      ]
    },
    {
      "cell_type": "markdown",
      "source": [
        "# **One-Hot Encoding (For Multiple Categories)**"
      ],
      "metadata": {
        "id": "VpQGBrkfyZwr"
      }
    },
    {
      "cell_type": "code",
      "source": [
        "# Let's add a column with multiple categories\n",
        "sample_data['city'] = ['Delhi', 'Mumbai', 'Delhi', 'Kolkata']\n",
        "\n",
        "# One-Hot Encoding using pandas\n",
        "city_encoded = pd.get_dummies(sample_data['city'], prefix='city')\n",
        "print(\"\\nOne-Hot Encoding for 'city':\")\n",
        "print(city_encoded)\n",
        "# Creates separate columns for each city\n",
        "\n",
        "# Add to original data\n",
        "sample_data = pd.concat([sample_data, city_encoded], axis=1)\n",
        "print(\"\\nFinal data with all encodings:\")\n",
        "print(sample_data)"
      ],
      "metadata": {
        "colab": {
          "base_uri": "https://localhost:8080/"
        },
        "id": "xk2TaPyaybeg",
        "outputId": "a6805862-49da-48dc-c8f4-e3c49488d9a3"
      },
      "execution_count": null,
      "outputs": [
        {
          "output_type": "stream",
          "name": "stdout",
          "text": [
            "\n",
            "One-Hot Encoding for 'city':\n",
            "   city_Delhi  city_Kolkata  city_Mumbai\n",
            "0        True         False        False\n",
            "1       False         False         True\n",
            "2        True         False        False\n",
            "3       False          True        False\n",
            "\n",
            "Final data with all encodings:\n",
            "   age  gender smoker  disease  smoker_encoded  gender_encoded     city  \\\n",
            "0   25    male    yes        1               1               1    Delhi   \n",
            "1   30  female     no        0               0               0   Mumbai   \n",
            "2   35    male    yes        1               1               1    Delhi   \n",
            "3   40  female     no        0               0               0  Kolkata   \n",
            "\n",
            "   city_Delhi  city_Kolkata  city_Mumbai  \n",
            "0        True         False        False  \n",
            "1       False         False         True  \n",
            "2        True         False        False  \n",
            "3       False          True        False  \n"
          ]
        }
      ]
    },
    {
      "cell_type": "markdown",
      "source": [
        "# **Train a Simple Model**"
      ],
      "metadata": {
        "id": "oZWQW3z2ruia"
      }
    },
    {
      "cell_type": "code",
      "source": [
        "from sklearn.linear_model import LogisticRegression\n",
        "\n",
        "# Create model\n",
        "model = LogisticRegression(max_iter=1000)\n",
        "\n",
        "# Train the model\n",
        "model.fit(X_train_scaled, y_train)\n",
        "print(\"✅ Model trained!\")\n",
        "\n",
        "# Check accuracy on training data\n",
        "train_score = model.score(X_train_scaled, y_train)\n",
        "print(f\"Training accuracy: {train_score:.1%}\")\n",
        "\n",
        "# Check accuracy on test data\n",
        "test_score = model.score(X_test_scaled, y_test)\n",
        "print(f\"Test accuracy: {test_score:.1%}\")"
      ],
      "metadata": {
        "colab": {
          "base_uri": "https://localhost:8080/"
        },
        "id": "XDhmg3rCrw4C",
        "outputId": "30f58f2b-4458-4b27-9a88-29fb801f8b87"
      },
      "execution_count": null,
      "outputs": [
        {
          "output_type": "stream",
          "name": "stdout",
          "text": [
            "✅ Model trained!\n",
            "Training accuracy: 78.5%\n",
            "Test accuracy: 75.3%\n"
          ]
        }
      ]
    },
    {
      "cell_type": "markdown",
      "source": [
        "# **Cross-Validation**"
      ],
      "metadata": {
        "id": "a8NmoF592y9J"
      }
    },
    {
      "cell_type": "code",
      "source": [
        "from sklearn.model_selection import cross_val_score\n",
        "\n",
        "# Do 5-fold cross-validation\n",
        "scores = cross_val_score(\n",
        "    model,           # Our model\n",
        "    X_train_scaled,  # Training data\n",
        "    y_train,         # Training labels\n",
        "    cv=5            # 5 mini-tests\n",
        ")\n",
        "\n",
        "print(\"5 mini-test scores:\")\n",
        "for i in range(5):\n",
        "    print(f\"  Test {i+1}: {scores[i]:.1%}\")\n",
        "\n",
        "print(f\"\\nAverage: {scores.mean():.1%}\")\n",
        "print(f\"This means our model is {scores.mean():.1%} accurate!\")"
      ],
      "metadata": {
        "colab": {
          "base_uri": "https://localhost:8080/"
        },
        "id": "WudlMiGb28l3",
        "outputId": "d8f62f3d-4ac6-4a47-c807-f1ba7b2c1202"
      },
      "execution_count": null,
      "outputs": [
        {
          "output_type": "stream",
          "name": "stdout",
          "text": [
            "5 mini-test scores:\n",
            "  Test 1: 78.9%\n",
            "  Test 2: 80.5%\n",
            "  Test 3: 78.9%\n",
            "  Test 4: 74.8%\n",
            "  Test 5: 77.9%\n",
            "\n",
            "Average: 78.2%\n",
            "This means our model is 78.2% accurate!\n"
          ]
        }
      ]
    },
    {
      "cell_type": "markdown",
      "source": [
        "# **Save Everything**"
      ],
      "metadata": {
        "id": "1njwtkJg3w9_"
      }
    },
    {
      "cell_type": "code",
      "source": [
        "import joblib\n",
        "\n",
        "# Save the model\n",
        "joblib.dump(model, 'my_model.pkl')\n",
        "print(\"✅ Model saved as 'my_model.pkl'\")\n",
        "\n",
        "# Save the scaler\n",
        "joblib.dump(scaler, 'my_scaler.pkl')\n",
        "print(\"✅ Scaler saved as 'my_scaler.pkl'\")\n",
        "\n",
        "# Save scaled data as CSV\n",
        "pd.DataFrame(X_train_scaled).to_csv('train_data_scaled.csv', index=False)\n",
        "print(\"✅ Scaled data saved as 'train_data_scaled.csv'\")"
      ],
      "metadata": {
        "colab": {
          "base_uri": "https://localhost:8080/"
        },
        "id": "8gZOO6vp3z2O",
        "outputId": "60a06c54-b797-4f50-8497-3093f824bd61"
      },
      "execution_count": null,
      "outputs": [
        {
          "output_type": "stream",
          "name": "stdout",
          "text": [
            "✅ Model saved as 'my_model.pkl'\n",
            "✅ Scaler saved as 'my_scaler.pkl'\n",
            "✅ Scaled data saved as 'train_data_scaled.csv'\n"
          ]
        }
      ]
    },
    {
      "cell_type": "markdown",
      "source": [
        "# **Use Saved Model for New Patient**"
      ],
      "metadata": {
        "id": "GmgQA3XMcj9y"
      }
    },
    {
      "cell_type": "code",
      "source": [
        "# Load saved model and scaler\n",
        "model = joblib.load('my_model.pkl')\n",
        "scaler = joblib.load('my_scaler.pkl')\n",
        "\n",
        "# New patient data (8 features)\n",
        "print(\"\\nNew patient information:\")\n",
        "new_patient = [[5, 116, 74, 0, 0, 25.6, 0.201, 30]]\n",
        "print(\"Pregnancies: 5\")\n",
        "print(\"Glucose: 116\")\n",
        "print(\"Blood Pressure: 74\")\n",
        "print(\"Age: 30\")\n",
        "print(\"(and other features...)\")\n",
        "\n",
        "# Scale the new patient data\n",
        "new_patient_scaled = scaler.transform(new_patient)\n",
        "\n",
        "# Make prediction\n",
        "prediction = model.predict(new_patient_scaled)\n",
        "\n",
        "if prediction[0] == 1:\n",
        "    print(\"\\n⚠️ Result: Risk of diabetes\")\n",
        "else:\n",
        "    print(\"\\n✅ Result: No diabetes risk\")"
      ],
      "metadata": {
        "colab": {
          "base_uri": "https://localhost:8080/"
        },
        "id": "7Z-mIzrecmMY",
        "outputId": "5071716e-c6c2-4303-9533-8dd246326bab"
      },
      "execution_count": null,
      "outputs": [
        {
          "output_type": "stream",
          "name": "stdout",
          "text": [
            "\n",
            "New patient information:\n",
            "Pregnancies: 5\n",
            "Glucose: 116\n",
            "Blood Pressure: 74\n",
            "Age: 30\n",
            "(and other features...)\n",
            "\n",
            "✅ Result: No diabetes risk\n"
          ]
        }
      ]
    },
    {
      "cell_type": "markdown",
      "source": [
        "# **Complete Code - All Steps Together**"
      ],
      "metadata": {
        "id": "nR8-ulgetpUh"
      }
    },
    {
      "cell_type": "code",
      "source": [
        "# Complete simple pipeline\n",
        "import pandas as pd\n",
        "from sklearn.model_selection import train_test_split\n",
        "from sklearn.preprocessing import StandardScaler\n",
        "from sklearn.linear_model import LogisticRegression\n",
        "import joblib\n",
        "\n",
        "# 1. Load data\n",
        "df = pd.read_csv('/content/drive/MyDrive/datasets/diabetes.csv')\n",
        "print(f\"Loaded {len(df)} patients\")\n",
        "\n",
        "# 2. Split X and y\n",
        "X = df.drop('Outcome', axis=1)\n",
        "y = df['Outcome']\n",
        "\n",
        "# 3. Train-test split\n",
        "X_train, X_test, y_train, y_test = train_test_split(\n",
        "    X, y, test_size=0.2, random_state=42\n",
        ")\n",
        "print(f\"Training: {len(X_train)}, Testing: {len(X_test)}\")\n",
        "\n",
        "# 4. Scale data\n",
        "scaler = StandardScaler()\n",
        "X_train_scaled = scaler.fit_transform(X_train)\n",
        "X_test_scaled = scaler.transform(X_test)\n",
        "print(\"Data scaled\")\n",
        "\n",
        "# 5. Train model\n",
        "model = LogisticRegression(max_iter=1000)\n",
        "model.fit(X_train_scaled, y_train)\n",
        "print(\"Model trained\")\n",
        "\n",
        "# 6. Check accuracy\n",
        "accuracy = model.score(X_test_scaled, y_test)\n",
        "print(f\"Accuracy: {accuracy:.1%}\")\n",
        "\n",
        "# 7. Save\n",
        "joblib.dump(model, 'model.pkl')\n",
        "joblib.dump(scaler, 'scaler.pkl')\n",
        "print(\"Everything saved!\")"
      ],
      "metadata": {
        "colab": {
          "base_uri": "https://localhost:8080/"
        },
        "id": "Xnbj7n-Kt20Y",
        "outputId": "f7ef33a4-4381-4daa-fa54-d81dfdea721a"
      },
      "execution_count": null,
      "outputs": [
        {
          "output_type": "stream",
          "name": "stdout",
          "text": [
            "Loaded 768 patients\n",
            "Training: 614, Testing: 154\n",
            "Data scaled\n",
            "Model trained\n",
            "Accuracy: 75.3%\n",
            "Everything saved!\n"
          ]
        }
      ]
    },
    {
      "cell_type": "code",
      "source": [
        "#Quick Reference - Most Important Code\n",
        "#Split Data:\n",
        "X_train, X_test, y_train, y_test = train_test_split(X, y, test_size=0.2)\n",
        "#Scale Data:\n",
        "scaler = StandardScaler()\n",
        "X_train_scaled = scaler.fit_transform(X_train)\n",
        "X_test_scaled = scaler.transform(X_test)\n",
        "#Train Model:\n",
        "model = LogisticRegression()\n",
        "model.fit(X_train_scaled, y_train)\n",
        "#Save Model:\n",
        "joblib.dump(model, 'model.pkl')\n",
        "joblib.dump(scaler, 'scaler.pkl')\n",
        "'''\n",
        "Remember These Points:\n",
        "\n",
        "Always split data first - Never use test data for training\n",
        "Scale after splitting - Fit scaler only on training data\n",
        "Save your work - So you can use it later\n",
        "Test on new data - To see if model really works\n",
        "'''"
      ],
      "metadata": {
        "colab": {
          "base_uri": "https://localhost:8080/",
          "height": 70
        },
        "id": "l-60yZcDvRmu",
        "outputId": "de6cace1-a882-4ee2-e6be-4ef3744d3f5e"
      },
      "execution_count": null,
      "outputs": [
        {
          "output_type": "execute_result",
          "data": {
            "text/plain": [
              "'\\nRemember These Points:\\n\\nAlways split data first - Never use test data for training\\nScale after splitting - Fit scaler only on training data\\nSave your work - So you can use it later\\nTest on new data - To see if model really works\\n'"
            ],
            "application/vnd.google.colaboratory.intrinsic+json": {
              "type": "string"
            }
          },
          "metadata": {},
          "execution_count": 42
        }
      ]
    }
  ]
}