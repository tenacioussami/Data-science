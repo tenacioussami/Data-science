{
  "nbformat": 4,
  "nbformat_minor": 0,
  "metadata": {
    "colab": {
      "provenance": [],
      "include_colab_link": true
    },
    "kernelspec": {
      "name": "python3",
      "display_name": "Python 3"
    },
    "language_info": {
      "name": "python"
    }
  },
  "cells": [
    {
      "cell_type": "markdown",
      "metadata": {
        "id": "view-in-github",
        "colab_type": "text"
      },
      "source": [
        "<a href=\"https://colab.research.google.com/github/tenacioussami/Data-science/blob/main/Assignment_5_Data_Preprocessing_and_Pipeline.ipynb\" target=\"_parent\"><img src=\"https://colab.research.google.com/assets/colab-badge.svg\" alt=\"Open In Colab\"/></a>"
      ]
    },
    {
      "cell_type": "code",
      "source": [
        "import pandas as pd\n",
        "import numpy as np\n",
        "import matplotlib.pyplot as plt\n",
        "import seaborn as sns\n",
        "from sklearn.model_selection import train_test_split, cross_val_score\n",
        "from sklearn.preprocessing import StandardScaler, MinMaxScaler\n",
        "from sklearn.linear_model import LogisticRegression\n",
        "from sklearn.metrics import accuracy_score, classification_report"
      ],
      "metadata": {
        "id": "AIlObKN7ZvZC"
      },
      "execution_count": 4,
      "outputs": []
    },
    {
      "cell_type": "code",
      "source": [
        "from google.colab import drive\n",
        "drive.mount('/content/drive')\n",
        "import warnings\n",
        "warnings.filterwarnings('ignore')"
      ],
      "metadata": {
        "colab": {
          "base_uri": "https://localhost:8080/"
        },
        "id": "Ue70VfSRZhbO",
        "outputId": "7bbf9f83-bca6-449e-d19e-96ce962b571e"
      },
      "execution_count": 5,
      "outputs": [
        {
          "output_type": "stream",
          "name": "stdout",
          "text": [
            "Mounted at /content/drive\n"
          ]
        }
      ]
    },
    {
      "cell_type": "code",
      "source": [
        "df = pd.read_csv('/content/drive/MyDrive/datasets/diabetes.csv')"
      ],
      "metadata": {
        "id": "d4Q8i0-KZjUD"
      },
      "execution_count": 6,
      "outputs": []
    },
    {
      "cell_type": "code",
      "execution_count": 7,
      "metadata": {
        "id": "kxzHrZ-S1J5-",
        "colab": {
          "base_uri": "https://localhost:8080/"
        },
        "outputId": "ee70694f-57ec-4754-aab6-4896f76ae2a3"
      },
      "outputs": [
        {
          "output_type": "stream",
          "name": "stdout",
          "text": [
            "Number of houses: ___ (768, 9)\n",
            "   Pregnancies  Glucose  BloodPressure  SkinThickness  Insulin   BMI  \\\n",
            "0            6      148             72             35        0  33.6   \n",
            "1            1       85             66             29        0  26.6   \n",
            "2            8      183             64              0        0  23.3   \n",
            "\n",
            "   DiabetesPedigreeFunction  Age  Outcome  \n",
            "0                     0.627   50        1  \n",
            "1                     0.351   31        0  \n",
            "2                     0.672   32        1  \n"
          ]
        }
      ],
      "source": [
        "#Load the Data\n",
        "\n",
        "# TODO: Load the housing data\n",
        "\n",
        "#df = pd.read_csv('Housing.csv')\n",
        "\n",
        "# TODO: How many houses are there?\n",
        "\n",
        "print(f\"Number of houses: ___\",df.shape)  # Fill this\n",
        "\n",
        "# TODO: Show first 3 houses\n",
        "print(df.head(3))\n",
        "# Your code here"
      ]
    },
    {
      "cell_type": "code",
      "source": [
        "# Look at Columns\n",
        "# TODO: Show all column names\n",
        "print(\"Columns:\")\n",
        "# Your code here\n",
        "print(df.columns)\n",
        "\n",
        "# TODO: Show data types of columns\n",
        "print(\"Data types:\",df.dtypes)\n"
      ],
      "metadata": {
        "id": "jY6xciSB1fGX",
        "colab": {
          "base_uri": "https://localhost:8080/"
        },
        "outputId": "1a14fcf3-5452-41e2-c876-6e51f6f777d9"
      },
      "execution_count": 9,
      "outputs": [
        {
          "output_type": "stream",
          "name": "stdout",
          "text": [
            "Columns:\n",
            "Index(['Pregnancies', 'Glucose', 'BloodPressure', 'SkinThickness', 'Insulin',\n",
            "       'BMI', 'DiabetesPedigreeFunction', 'Age', 'Outcome'],\n",
            "      dtype='object')\n",
            "Data types: Pregnancies                   int64\n",
            "Glucose                       int64\n",
            "BloodPressure                 int64\n",
            "SkinThickness                 int64\n",
            "Insulin                       int64\n",
            "BMI                         float64\n",
            "DiabetesPedigreeFunction    float64\n",
            "Age                           int64\n",
            "Outcome                       int64\n",
            "dtype: object\n"
          ]
        }
      ]
    },
    {
      "cell_type": "code",
      "source": [
        "#Convert Yes/No to 1/0\n",
        "# Check what's in our data'\n",
        "\n",
        "#print(\"Current furnishingstatus values:\", df['furnishingstatus'].head())\n",
        "# Shows: yes, no, yes, yes, no\n",
        "\n",
        "# Models need numbers, not text!\n",
        "# We need: yes → 1, no → 0"
      ],
      "metadata": {
        "id": "MwB1ZgVl1plX"
      },
      "execution_count": 12,
      "outputs": []
    },
    {
      "cell_type": "code",
      "source": [
        "# Split into Train and Test\n",
        "# TODO: Split - 80% train, 20% test\n",
        "X = df.drop('Outcome', axis=1)             # Everything except Outcome\n",
        "y = df['Outcome']                          # Only Outcome\n",
        "\n",
        "\n",
        "\n",
        "# Split: 80% for training, 20% for testing\n",
        "X_train, X_test, y_train, y_test = train_test_split(\n",
        "    X, y,\n",
        "    test_size=0.2,    # 20% for test\n",
        "    random_state=20   # Same result every time\n",
        ")\n",
        "\n",
        "print(f\"\\nWe will train with: {len(X_train)} housing\")\n",
        "print(f\"We will test with: {len(X_test)} housing\")"
      ],
      "metadata": {
        "id": "CGWFD9Do1w2J",
        "colab": {
          "base_uri": "https://localhost:8080/"
        },
        "outputId": "ed643a6f-a51c-4585-a558-131991ebe1ce"
      },
      "execution_count": 13,
      "outputs": [
        {
          "output_type": "stream",
          "name": "stdout",
          "text": [
            "\n",
            "We will train with: 614 housing\n",
            "We will test with: 154 housing\n"
          ]
        }
      ]
    },
    {
      "cell_type": "code",
      "source": [
        "#Apply StandardScaler\n",
        "# Area is huge (1650-13300), Bedrooms is small (1-6)!\n",
        "#Your Code here\n",
        "x_train_scaled = None\n",
        "x_test_scaled = None\n",
        "\n",
        "scaler = StandardScaler()\n",
        "x_train_scaled = scaler.fit_transform(X_train)\n",
        "x_test_scaled = scaler.transform(X_test)\n",
        "\n",
        "\n",
        "print(f\"Example - First housing before scaling: {X_train.values[0][7]}\")\n",
        "print(f\"Example - First housing after scaling: {x_train_scaled[0][7]:.2f}\")"
      ],
      "metadata": {
        "id": "ORsVWo8E18y1",
        "colab": {
          "base_uri": "https://localhost:8080/"
        },
        "outputId": "95deca48-2fd9-48eb-b2f9-c3f076cee1c2"
      },
      "execution_count": 15,
      "outputs": [
        {
          "output_type": "stream",
          "name": "stdout",
          "text": [
            "Example - First housing before scaling: 28.0\n",
            "Example - First housing after scaling: -0.43\n"
          ]
        }
      ]
    },
    {
      "cell_type": "code",
      "source": [
        "#train and test model\n",
        "#your code here\n",
        "model = LogisticRegression(max_iter=1000)\n",
        "#Train the model\n",
        "model.fit(x_train_scaled, y_train)\n",
        "\n",
        "# Check accuracy on training data\n",
        "train_score = model.score(x_train_scaled, y_train)\n",
        "print(f\"Training accuracy: {train_score:.1%}\")\n",
        "\n",
        "# Check accuracy on test data\n",
        "test_score = model.score(x_test_scaled, y_test)\n",
        "print(f\"Test accuracy: {test_score:.1%}\")\n"
      ],
      "metadata": {
        "id": "khBlvU-f2QnW",
        "colab": {
          "base_uri": "https://localhost:8080/"
        },
        "outputId": "7073ed49-8b55-41b5-baa7-30be9f356933"
      },
      "execution_count": 20,
      "outputs": [
        {
          "output_type": "stream",
          "name": "stdout",
          "text": [
            "Training accuracy: 78.5%\n",
            "Test accuracy: 75.3%\n"
          ]
        }
      ]
    },
    {
      "cell_type": "code",
      "source": [
        "# Predict a House Price\n",
        "# New house details:\n",
        "# area=5000, bedrooms=3, bathrooms=2, stories=2,\n",
        "# mainroad=yes, guestroom=no, basement=yes,\n",
        "# hotwaterheating=no, airconditioning=yes,\n",
        "# parking=2, prefarea=yes, furnishingstatus=furnished\n",
        "#your code here\n",
        "import pandas as pd\n",
        "import numpy as np\n",
        "\n",
        "# নতুন বাড়ির data dictionary আকারে\n",
        "new_house_dict = {\n",
        "    \"area\": [5000],\n",
        "    \"bedrooms\": [3],\n",
        "    \"bathrooms\": [2],\n",
        "    \"stories\": [2],\n",
        "    \"mainroad\": [\"yes\"],\n",
        "    \"guestroom\": [\"no\"],\n",
        "    \"basement\": [\"yes\"],\n",
        "    \"hotwaterheating\": [\"no\"],\n",
        "    \"airconditioning\": [\"yes\"],\n",
        "    \"parking\": [2],\n",
        "    \"prefarea\": [\"yes\"],\n",
        "    \"furnishingstatus\": [\"furnished\"]\n",
        "}\n",
        "\n",
        "new_house_df = pd.DataFrame(new_house_dict)\n",
        "\n",
        "new_house_encoded = pd.get_dummies(new_house_df)\n",
        "\n",
        "new_house_encoded = new_house_encoded.reindex(columns=X_train.columns, fill_value=0)\n",
        "\n",
        "new_house_scaled = scaler.transform(new_house_encoded)\n",
        "\n",
        "\n",
        "predicted_price = model.predict(new_house_scaled)\n",
        "print(f\"Predicted house price: {predicted_price[0]:.2f}\")\n"
      ],
      "metadata": {
        "id": "no5CjmoK2aHb",
        "colab": {
          "base_uri": "https://localhost:8080/"
        },
        "outputId": "3c8db7e4-8782-4800-dcfa-9c13cd17c0da"
      },
      "execution_count": 27,
      "outputs": [
        {
          "output_type": "stream",
          "name": "stdout",
          "text": [
            "Predicted house price: 0.00\n"
          ]
        }
      ]
    }
  ]
}